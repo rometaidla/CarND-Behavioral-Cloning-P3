{
 "cells": [
  {
   "cell_type": "code",
   "execution_count": 1,
   "metadata": {},
   "outputs": [
    {
     "name": "stdout",
     "output_type": "stream",
     "text": [
      "finished dataset:  track2\n",
      "X_train shape:  (11499, 160, 320, 3)\n",
      "y_train shape:  (11499,)\n"
     ]
    }
   ],
   "source": [
    "# Read data\n",
    "import csv\n",
    "import cv2\n",
    "import numpy as np\n",
    "\n",
    "# Helper for loading image from given path and dataset\n",
    "def read_img(source_path, dataset):\n",
    "    filename = source_path.split('/')[-1]\n",
    "    current_path = './' + dataset + '/IMG/' + filename\n",
    "    image = cv2.imread(current_path)\n",
    "    return image\n",
    "\n",
    "# List of datasets that are loaded, list of directories\n",
    "datasets = ['normal', 'back-to-road', 'bridge']\n",
    "\n",
    "images = []\n",
    "steering = []\n",
    "\n",
    "# Load datasets\n",
    "for dataset in datasets:\n",
    "    with open('./' + dataset + '/driving_log.csv') as csvfile:\n",
    "        reader = csv.reader(csvfile)\n",
    "        for line in reader:\n",
    "            center_image = read_img(line[0], dataset)\n",
    "            left_image = read_img(line[1], dataset)\n",
    "            right_image = read_img(line[2], dataset)\n",
    "\n",
    "            images.append(center_image)\n",
    "            images.append(left_image)\n",
    "            images.append(right_image)\n",
    "\n",
    "            steering_correction = 0.2\n",
    "            steering_center = float(line[3])\n",
    "            steering_left = steering_center + steering_correction\n",
    "            steering_right = steering_center - steering_correction\n",
    "\n",
    "            steering.append(steering_center)\n",
    "            steering.append(steering_left)\n",
    "            steering.append(steering_right)\n",
    "        print('finished loading dataset: ', dataset)\n",
    "    \n",
    "X_train = np.array(images)\n",
    "y_train = np.array(steering)\n",
    "\n",
    "print(\"X_train shape: \", X_train.shape)\n",
    "print(\"y_train shape: \", y_train.shape)\n",
    "    "
   ]
  },
  {
   "cell_type": "code",
   "execution_count": 5,
   "metadata": {},
   "outputs": [
    {
     "name": "stderr",
     "output_type": "stream",
     "text": [
      "/home/carnd/anaconda3/envs/carnd-term1/lib/python3.5/site-packages/ipykernel_launcher.py:11: UserWarning: Update your `Conv2D` call to the Keras 2 API: `Conv2D(24, (5, 5), activation=\"relu\", strides=(2, 2))`\n",
      "  # This is added back by InteractiveShellApp.init_path()\n",
      "/home/carnd/anaconda3/envs/carnd-term1/lib/python3.5/site-packages/ipykernel_launcher.py:12: UserWarning: Update your `Conv2D` call to the Keras 2 API: `Conv2D(36, (5, 5), activation=\"relu\", strides=(2, 2))`\n",
      "  if sys.path[0] == '':\n",
      "/home/carnd/anaconda3/envs/carnd-term1/lib/python3.5/site-packages/ipykernel_launcher.py:13: UserWarning: Update your `Conv2D` call to the Keras 2 API: `Conv2D(48, (5, 5), activation=\"relu\", strides=(2, 2))`\n",
      "  del sys.path[0]\n",
      "/home/carnd/anaconda3/envs/carnd-term1/lib/python3.5/site-packages/ipykernel_launcher.py:14: UserWarning: Update your `Conv2D` call to the Keras 2 API: `Conv2D(64, (3, 3), activation=\"relu\")`\n",
      "  \n",
      "/home/carnd/anaconda3/envs/carnd-term1/lib/python3.5/site-packages/ipykernel_launcher.py:15: UserWarning: Update your `Conv2D` call to the Keras 2 API: `Conv2D(64, (3, 3), activation=\"relu\")`\n",
      "  from ipykernel import kernelapp as app\n"
     ]
    },
    {
     "name": "stdout",
     "output_type": "stream",
     "text": [
      "Train on 9199 samples, validate on 2300 samples\n",
      "Epoch 1/5\n",
      "9199/9199 [==============================] - 17s 2ms/step - loss: 0.1267 - val_loss: 0.1268\n",
      "Epoch 2/5\n",
      "9199/9199 [==============================] - 17s 2ms/step - loss: 0.1006 - val_loss: 0.0984\n",
      "Epoch 3/5\n",
      "9199/9199 [==============================] - 17s 2ms/step - loss: 0.0870 - val_loss: 0.0964\n",
      "Epoch 4/5\n",
      "9199/9199 [==============================] - 17s 2ms/step - loss: 0.0777 - val_loss: 0.1070\n",
      "Epoch 5/5\n",
      "9199/9199 [==============================] - 17s 2ms/step - loss: 0.0720 - val_loss: 0.1107\n",
      "model saved\n"
     ]
    }
   ],
   "source": [
    "# Network Architecture\n",
    "from keras.models import Sequential\n",
    "from keras.layers import Flatten, Dense, Lambda, Dropout\n",
    "from keras.layers import Convolution2D, Cropping2D\n",
    "\n",
    "model = Sequential()\n",
    "\n",
    "## Preprocessing\n",
    "model.add(Lambda(lambda x: x / 255.0 - 0.5, input_shape=(160,320,3)))\n",
    "model.add(Cropping2D(cropping=((70,25),(0,0))))\n",
    "\n",
    "## Convolutional layers\n",
    "model.add(Convolution2D(24,5,5,subsample=(2,2), activation=\"relu\"))\n",
    "model.add(Convolution2D(36,5,5,subsample=(2,2),activation=\"relu\"))\n",
    "model.add(Convolution2D(48,5,5,subsample=(2,2),activation=\"relu\"))\n",
    "model.add(Convolution2D(64,3,3,activation=\"relu\"))\n",
    "model.add(Convolution2D(64,3,3,activation=\"relu\"))\n",
    "\n",
    "## Fully connected layers\n",
    "model.add(Flatten())\n",
    "model.add(Dropout(0.5))\n",
    "model.add(Dense(100))\n",
    "model.add(Dropout(0.5))\n",
    "model.add(Dense(50))\n",
    "model.add(Dense(10))\n",
    "model.add(Dense(1))\n",
    "\n",
    "## Train\n",
    "model.compile(loss='mse', optimizer='adam')\n",
    "model.fit(X_train, y_train, validation_split=0.2, shuffle=True, epochs=5)\n",
    "\n",
    "model.save('model.h5')\n",
    "print('model saved')"
   ]
  },
  {
   "cell_type": "code",
   "execution_count": null,
   "metadata": {},
   "outputs": [],
   "source": []
  },
  {
   "cell_type": "code",
   "execution_count": null,
   "metadata": {},
   "outputs": [],
   "source": []
  }
 ],
 "metadata": {
  "kernelspec": {
   "display_name": "Python 3",
   "language": "python",
   "name": "python3"
  },
  "language_info": {
   "codemirror_mode": {
    "name": "ipython",
    "version": 3
   },
   "file_extension": ".py",
   "mimetype": "text/x-python",
   "name": "python",
   "nbconvert_exporter": "python",
   "pygments_lexer": "ipython3",
   "version": "3.5.2"
  },
  "widgets": {
   "state": {},
   "version": "1.1.2"
  }
 },
 "nbformat": 4,
 "nbformat_minor": 2
}
